{
 "cells": [
  {
   "cell_type": "code",
   "execution_count": 122,
   "id": "green-reproduction",
   "metadata": {},
   "outputs": [],
   "source": [
    "# Import Libraries\n",
    "\n",
    "## for data\n",
    "from sklearn import metrics, manifold\n",
    "import numpy as np\n",
    "import pandas as pd\n",
    "import json\n",
    "\n",
    "## for processing\n",
    "from gensim.models import Word2Vec\n",
    "import gensim.downloader as gensim_api\n",
    "import gensim, nltk, re\n",
    "\n",
    "## for plotting\n",
    "import matplotlib.pyplot as plt\n",
    "import seaborn as sns"
   ]
  },
  {
   "cell_type": "code",
   "execution_count": 123,
   "id": "nutritional-calcium",
   "metadata": {},
   "outputs": [],
   "source": [
    "#Create a data frame to store bond data\n",
    "bond_data_frame = pd.read_csv(\"ballottext_bonds_CA.csv\") \n",
    "bond_data_frame = bond_data_frame.rename(columns={\"ballottext\":\"original_text\"})"
   ]
  },
  {
   "cell_type": "code",
   "execution_count": 124,
   "id": "frank-month",
   "metadata": {},
   "outputs": [],
   "source": [
    "#Clean the text data \n",
    "\n",
    "# create a set for O(1) of stop words to filter\n",
    "stopwords = set(nltk.corpus.stopwords.words(\"english\"))\n",
    "\n",
    "# initalize a object to get root words\n",
    "lem = nltk.stem.wordnet.WordNetLemmatizer()\n",
    "\n",
    "def clean_text(text):\n",
    "    #removes punctuation within a word and makes everything lower case\n",
    "    text = re.sub(r'[^\\w\\s]', '', str(text).lower().strip())\n",
    "    \n",
    "    #split sentence into list\n",
    "    sentence_list = text.split()    \n",
    "    \n",
    "    #removes stop words\n",
    "    sentence_list = [x for x in sentence_list if x not in stopwords]        \n",
    "    for i, word in enumerate(sentence_list):\n",
    "        sentence_list[i] = lem.lemmatize(word)\n",
    "                \n",
    "    ## back to string from list\n",
    "    text = \" \".join(sentence_list)\n",
    "    \n",
    "    return text"
   ]
  },
  {
   "cell_type": "code",
   "execution_count": 125,
   "id": "southeast-rwanda",
   "metadata": {},
   "outputs": [
    {
     "data": {
      "text/html": [
       "<div>\n",
       "<style scoped>\n",
       "    .dataframe tbody tr th:only-of-type {\n",
       "        vertical-align: middle;\n",
       "    }\n",
       "\n",
       "    .dataframe tbody tr th {\n",
       "        vertical-align: top;\n",
       "    }\n",
       "\n",
       "    .dataframe thead th {\n",
       "        text-align: right;\n",
       "    }\n",
       "</style>\n",
       "<table border=\"1\" class=\"dataframe\">\n",
       "  <thead>\n",
       "    <tr style=\"text-align: right;\">\n",
       "      <th></th>\n",
       "      <th>original_text</th>\n",
       "      <th>clean_text</th>\n",
       "    </tr>\n",
       "  </thead>\n",
       "  <tbody>\n",
       "    <tr>\n",
       "      <th>0</th>\n",
       "      <td>To renovate and equip classrooms and school fa...</td>\n",
       "      <td>renovate equip classroom school facility distr...</td>\n",
       "    </tr>\n",
       "    <tr>\n",
       "      <th>1</th>\n",
       "      <td>To improve safety, energy efficiency, lower ma...</td>\n",
       "      <td>improve safety energy efficiency lower mainten...</td>\n",
       "    </tr>\n",
       "    <tr>\n",
       "      <th>2</th>\n",
       "      <td>Shall the Acalanes Union High School District ...</td>\n",
       "      <td>shall acalanes union high school district auth...</td>\n",
       "    </tr>\n",
       "    <tr>\n",
       "      <th>3</th>\n",
       "      <td>To establish a ten-year technology fund, upgra...</td>\n",
       "      <td>establish tenyear technology fund upgrade inst...</td>\n",
       "    </tr>\n",
       "    <tr>\n",
       "      <th>4</th>\n",
       "      <td>To design and construct permanent classrooms, ...</td>\n",
       "      <td>design construct permanent classroom science l...</td>\n",
       "    </tr>\n",
       "  </tbody>\n",
       "</table>\n",
       "</div>"
      ],
      "text/plain": [
       "                                       original_text  \\\n",
       "0  To renovate and equip classrooms and school fa...   \n",
       "1  To improve safety, energy efficiency, lower ma...   \n",
       "2  Shall the Acalanes Union High School District ...   \n",
       "3  To establish a ten-year technology fund, upgra...   \n",
       "4  To design and construct permanent classrooms, ...   \n",
       "\n",
       "                                          clean_text  \n",
       "0  renovate equip classroom school facility distr...  \n",
       "1  improve safety energy efficiency lower mainten...  \n",
       "2  shall acalanes union high school district auth...  \n",
       "3  establish tenyear technology fund upgrade inst...  \n",
       "4  design construct permanent classroom science l...  "
      ]
     },
     "execution_count": 125,
     "metadata": {},
     "output_type": "execute_result"
    }
   ],
   "source": [
    "#Add column to dataframe with cleaned text\n",
    "bond_data_frame[\"clean_text\"] = bond_data_frame[\"original_text\"].apply(lambda x: clean_text(x))\n",
    "bond_data_frame.head()"
   ]
  },
  {
   "cell_type": "code",
   "execution_count": 126,
   "id": "accredited-saint",
   "metadata": {},
   "outputs": [
    {
     "name": "stdout",
     "output_type": "stream",
     "text": [
      "['renovate', 'classroom', 'school', 'facility', 'student', 'access', 'technology', 'education', 'including', 'science', 'replace', 'roof', 'system', 'shall', 'unified', 'district', 'issue', 'bond', 'interest', 'rate', 'legal', 'limit', 'independent', 'citizen', 'oversight', 'money', 'administrator', 'salary', 'fund', 'improve', 'safety', 'high', 'union', 'million', 'committee', 'audit', 'improvement', 'new', 'upgrade', 'electrical', 'repair', 'construct', 'provide', 'state', 'acquire', 'annual', 'computer', 'plumbing', 'elementary', 'local']\n"
     ]
    }
   ],
   "source": [
    "#frequency analysis to determine classes \n",
    "from collections import defaultdict\n",
    "word_freq = defaultdict(int)\n",
    "\n",
    "for line in bond_data_frame[\"clean_text\"]:\n",
    "    for word in line.split():\n",
    "        word_freq[word] += 1\n",
    "\n",
    "potential_label_lst = []\n",
    "\n",
    "lower_bound = sorted(word_freq.values(), reverse=True)[50]\n",
    "\n",
    "for potential_label in word_freq:\n",
    "    if word_freq[potential_label] > lower_bound:\n",
    "        potential_label_lst.append(potential_label)\n",
    "\n",
    "print(potential_label_lst)"
   ]
  },
  {
   "cell_type": "code",
   "execution_count": 127,
   "id": "lovely-interface",
   "metadata": {},
   "outputs": [],
   "source": [
    "#After doing frequency analysis of what the most common words are\n",
    "\n",
    "# The five classes that I have come up with are \n",
    "\n",
    "#renovation, salary, technology, construction, classroom\n",
    "categories = [\"renovation\", \"salary\", \"technology\", \"construction\", \"classroom\"]"
   ]
  },
  {
   "cell_type": "code",
   "execution_count": 50,
   "id": "compound-domestic",
   "metadata": {},
   "outputs": [],
   "source": [
    "nlp = gensim_api.load(\"glove-wiki-gigaword-300\")"
   ]
  },
  {
   "cell_type": "code",
   "execution_count": 141,
   "id": "growing-links",
   "metadata": {},
   "outputs": [],
   "source": [
    "#Form cluster dictionaries \n",
    "def get_similar_words(lst_words):\n",
    "    lst_out = lst_words\n",
    "    for tupla in nlp.most_similar(lst_words, topn=10):\n",
    "        lst_out.append(tupla[0])\n",
    "    return list(set(lst_out))\n",
    "\n",
    "dic_clusters = {}\n",
    "\n",
    "dic_clusters[\"renovation\"] = get_similar_words(['renovate','improvement','upgrade','repair'])\n",
    "dic_clusters[\"salary\"] = get_similar_words(['salary','money', 'facility','administrator', \"amount\"])\n",
    "dic_clusters[\"technology\"] = get_similar_words(['technology','computer','app'])\n",
    "dic_clusters[\"construction\"] = get_similar_words(['construction','build','design','new'])\n",
    "dic_clusters[\"classroom\"] = get_similar_words(['classroom','class', 'books', 'education'])\n",
    "\n",
    "mapping = {}\n",
    "\n",
    "for key in dic_clusters.keys():\n",
    "    for elm in dic_clusters[key]:\n",
    "        mapping[clean_text(elm)] = key "
   ]
  },
  {
   "cell_type": "code",
   "execution_count": 142,
   "id": "standard-hopkins",
   "metadata": {},
   "outputs": [
    {
     "data": {
      "image/png": "[encoded data removed]",
      "text/plain": [
       "<Figure size 432x288 with 1 Axes>"
      ]
     },
     "metadata": {},
     "output_type": "display_data"
    }
   ],
   "source": [
    "#Visualize \n",
    "\n",
    "## word embedding\n",
    "tot_words = [word for v in dic_clusters.values() for word in v]\n",
    "X = nlp[tot_words]\n",
    "\n",
    "## pca\n",
    "pca = manifold.TSNE(perplexity=40, n_components=2, init='pca')\n",
    "X = pca.fit_transform(X)\n",
    "\n",
    "## create dtf\n",
    "dtf = pd.DataFrame()\n",
    "for k,v in dic_clusters.items():\n",
    "    size = len(dtf) + len(v)\n",
    "    dtf_group = pd.DataFrame(X[len(dtf):size], columns=[\"x\",\"y\"], \n",
    "                             index=v)\n",
    "    dtf_group[\"cluster\"] = k\n",
    "    dtf = dtf.append(dtf_group)\n",
    "\n",
    "#Visualize clusters \n",
    "fig, ax = plt.subplots()\n",
    "sns.scatterplot(data=dtf, x=\"x\", y=\"y\", hue=\"cluster\", ax=ax)\n",
    "ax.legend().texts[0].set_text(None)\n",
    "ax.set(xlabel=None, ylabel=None, xticks=[], xticklabels=[], \n",
    "       yticks=[], yticklabels=[])\n",
    "for i in range(len(dtf)):\n",
    "    ax.annotate(dtf.index[i], \n",
    "               xy=(dtf[\"x\"].iloc[i],dtf[\"y\"].iloc[i]), \n",
    "               xytext=(5,2), textcoords='offset points', \n",
    "               ha='right', va='bottom')"
   ]
  },
  {
   "cell_type": "code",
   "execution_count": 143,
   "id": "isolated-anatomy",
   "metadata": {},
   "outputs": [],
   "source": [
    "# Iterate through the bonds and look for overlapping words with class and similar words of classes\n",
    "classifications = []\n",
    "for line in bond_data_frame[\"clean_text\"]:\n",
    "    q = line.split(\" \")\n",
    "    for i, word in enumerate(q):\n",
    "        if word in mapping:\n",
    "            classifications.append(mapping[word])\n",
    "            break\n",
    " \n",
    "bond_data_frame[\"classifications\"] = classifications"
   ]
  },
  {
   "cell_type": "code",
   "execution_count": 144,
   "id": "baking-birmingham",
   "metadata": {},
   "outputs": [
    {
     "data": {
      "text/html": [
       "<div>\n",
       "<style scoped>\n",
       "    .dataframe tbody tr th:only-of-type {\n",
       "        vertical-align: middle;\n",
       "    }\n",
       "\n",
       "    .dataframe tbody tr th {\n",
       "        vertical-align: top;\n",
       "    }\n",
       "\n",
       "    .dataframe thead th {\n",
       "        text-align: right;\n",
       "    }\n",
       "</style>\n",
       "<table border=\"1\" class=\"dataframe\">\n",
       "  <thead>\n",
       "    <tr style=\"text-align: right;\">\n",
       "      <th></th>\n",
       "      <th>original_text</th>\n",
       "      <th>clean_text</th>\n",
       "      <th>classifications</th>\n",
       "    </tr>\n",
       "  </thead>\n",
       "  <tbody>\n",
       "    <tr>\n",
       "      <th>0</th>\n",
       "      <td>To renovate and equip classrooms and school fa...</td>\n",
       "      <td>renovate equip classroom school facility distr...</td>\n",
       "      <td>renovation</td>\n",
       "    </tr>\n",
       "    <tr>\n",
       "      <th>1</th>\n",
       "      <td>To improve safety, energy efficiency, lower ma...</td>\n",
       "      <td>improve safety energy efficiency lower mainten...</td>\n",
       "      <td>renovation</td>\n",
       "    </tr>\n",
       "    <tr>\n",
       "      <th>2</th>\n",
       "      <td>Shall the Acalanes Union High School District ...</td>\n",
       "      <td>shall acalanes union high school district auth...</td>\n",
       "      <td>classroom</td>\n",
       "    </tr>\n",
       "    <tr>\n",
       "      <th>3</th>\n",
       "      <td>To establish a ten-year technology fund, upgra...</td>\n",
       "      <td>establish tenyear technology fund upgrade inst...</td>\n",
       "      <td>technology</td>\n",
       "    </tr>\n",
       "    <tr>\n",
       "      <th>4</th>\n",
       "      <td>To design and construct permanent classrooms, ...</td>\n",
       "      <td>design construct permanent classroom science l...</td>\n",
       "      <td>construction</td>\n",
       "    </tr>\n",
       "  </tbody>\n",
       "</table>\n",
       "</div>"
      ],
      "text/plain": [
       "                                       original_text  \\\n",
       "0  To renovate and equip classrooms and school fa...   \n",
       "1  To improve safety, energy efficiency, lower ma...   \n",
       "2  Shall the Acalanes Union High School District ...   \n",
       "3  To establish a ten-year technology fund, upgra...   \n",
       "4  To design and construct permanent classrooms, ...   \n",
       "\n",
       "                                          clean_text classifications  \n",
       "0  renovate equip classroom school facility distr...      renovation  \n",
       "1  improve safety energy efficiency lower mainten...      renovation  \n",
       "2  shall acalanes union high school district auth...       classroom  \n",
       "3  establish tenyear technology fund upgrade inst...      technology  \n",
       "4  design construct permanent classroom science l...    construction  "
      ]
     },
     "execution_count": 144,
     "metadata": {},
     "output_type": "execute_result"
    }
   ],
   "source": [
    "#Print the first few classifications from the dataframe\n",
    "bond_data_frame.head()"
   ]
  },
  {
   "cell_type": "code",
   "execution_count": 145,
   "id": "floating-nation",
   "metadata": {},
   "outputs": [
    {
     "data": {
      "text/html": [
       "<div>\n",
       "<style scoped>\n",
       "    .dataframe tbody tr th:only-of-type {\n",
       "        vertical-align: middle;\n",
       "    }\n",
       "\n",
       "    .dataframe tbody tr th {\n",
       "        vertical-align: top;\n",
       "    }\n",
       "\n",
       "    .dataframe thead th {\n",
       "        text-align: right;\n",
       "    }\n",
       "</style>\n",
       "<table border=\"1\" class=\"dataframe\">\n",
       "  <thead>\n",
       "    <tr style=\"text-align: right;\">\n",
       "      <th></th>\n",
       "      <th>original_text</th>\n",
       "      <th>clean_text</th>\n",
       "      <th>classifications</th>\n",
       "    </tr>\n",
       "  </thead>\n",
       "  <tbody>\n",
       "    <tr>\n",
       "      <th>1910</th>\n",
       "      <td>To avoid further overcrowding by building one ...</td>\n",
       "      <td>avoid overcrowding building one new elementary...</td>\n",
       "      <td>construction</td>\n",
       "    </tr>\n",
       "    <tr>\n",
       "      <th>1911</th>\n",
       "      <td>To fund school facilities for students in the ...</td>\n",
       "      <td>fund school facility student yuba city unified...</td>\n",
       "      <td>salary</td>\n",
       "    </tr>\n",
       "    <tr>\n",
       "      <th>1912</th>\n",
       "      <td>Shall the Yuba City Unified School District is...</td>\n",
       "      <td>shall yuba city unified school district issue ...</td>\n",
       "      <td>classroom</td>\n",
       "    </tr>\n",
       "    <tr>\n",
       "      <th>1913</th>\n",
       "      <td>To repair and upgrade local schools in Yucaipa...</td>\n",
       "      <td>repair upgrade local school yucaipa calimesa p...</td>\n",
       "      <td>renovation</td>\n",
       "    </tr>\n",
       "    <tr>\n",
       "      <th>1914</th>\n",
       "      <td>To repair and upgrade local schools in Yucaipa...</td>\n",
       "      <td>repair upgrade local school yucaipa calimesa p...</td>\n",
       "      <td>renovation</td>\n",
       "    </tr>\n",
       "  </tbody>\n",
       "</table>\n",
       "</div>"
      ],
      "text/plain": [
       "                                          original_text  \\\n",
       "1910  To avoid further overcrowding by building one ...   \n",
       "1911  To fund school facilities for students in the ...   \n",
       "1912  Shall the Yuba City Unified School District is...   \n",
       "1913  To repair and upgrade local schools in Yucaipa...   \n",
       "1914  To repair and upgrade local schools in Yucaipa...   \n",
       "\n",
       "                                             clean_text classifications  \n",
       "1910  avoid overcrowding building one new elementary...    construction  \n",
       "1911  fund school facility student yuba city unified...          salary  \n",
       "1912  shall yuba city unified school district issue ...       classroom  \n",
       "1913  repair upgrade local school yucaipa calimesa p...      renovation  \n",
       "1914  repair upgrade local school yucaipa calimesa p...      renovation  "
      ]
     },
     "execution_count": 145,
     "metadata": {},
     "output_type": "execute_result"
    }
   ],
   "source": [
    "#Print the last few classifications from the dataframe\n",
    "\n",
    "bond_data_frame.tail()"
   ]
  }
 ],
 "metadata": {
  "kernelspec": {
   "display_name": "Python 3",
   "language": "python",
   "name": "python3"
  },
  "language_info": {
   "codemirror_mode": {
    "name": "ipython",
    "version": 3
   },
   "file_extension": ".py",
   "mimetype": "text/x-python",
   "name": "python",
   "nbconvert_exporter": "python",
   "pygments_lexer": "ipython3",
   "version": "3.8.0"
  }
 },
 "nbformat": 4,
 "nbformat_minor": 5
}
